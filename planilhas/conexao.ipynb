{
 "cells": [
  {
   "cell_type": "markdown",
   "id": "db573c7b",
   "metadata": {},
   "source": []
  },
  {
   "cell_type": "code",
   "execution_count": 1,
   "id": "414adb67",
   "metadata": {},
   "outputs": [],
   "source": [
    "# importa o driver# \n",
    "import pyodbc\n"
   ]
  },
  {
   "cell_type": "code",
   "execution_count": 2,
   "id": "b20cb695",
   "metadata": {},
   "outputs": [],
   "source": [
    "# cria as variaveis\n",
    "server = 'NPAB3065'\n",
    "database = 'DMR_ONSHORE_P'\n",
    "username = 'sql'\n",
    "password = 'master'\n"
   ]
  },
  {
   "cell_type": "code",
   "execution_count": 3,
   "id": "db2eabce",
   "metadata": {},
   "outputs": [],
   "source": [
    "# cria a string de conexao\n",
    "conn_str = (\n",
    "    f'DRIVER={{ODBC Driver 17 for SQL Server}};'\n",
    "    f'SERVER={server};'\n",
    "    f'DATABASE={database};'\n",
    "    f'UID={username};'\n",
    "    f'PWD={password}'\n",
    ")\n"
   ]
  },
  {
   "cell_type": "code",
   "execution_count": 4,
   "id": "3ef75318",
   "metadata": {},
   "outputs": [
    {
     "ename": "InterfaceError",
     "evalue": "('IM002', '[IM002] [Microsoft][ODBC Driver Manager] Nome da fonte de dados não encontrado e nenhum driver padrão especificado (0) (SQLDriverConnect)')",
     "output_type": "error",
     "traceback": [
      "\u001b[31m---------------------------------------------------------------------------\u001b[39m",
      "\u001b[31mInterfaceError\u001b[39m                            Traceback (most recent call last)",
      "\u001b[36mCell\u001b[39m\u001b[36m \u001b[39m\u001b[32mIn[4]\u001b[39m\u001b[32m, line 2\u001b[39m\n\u001b[32m      1\u001b[39m \u001b[38;5;66;03m# conexao com o BD\u001b[39;00m\n\u001b[32m----> \u001b[39m\u001b[32m2\u001b[39m conn = \u001b[43mpyodbc\u001b[49m\u001b[43m.\u001b[49m\u001b[43mconnect\u001b[49m\u001b[43m(\u001b[49m\u001b[43mconn_str\u001b[49m\u001b[43m)\u001b[49m\n\u001b[32m      3\u001b[39m cursor = conn.cursor()\n",
      "\u001b[31mInterfaceError\u001b[39m: ('IM002', '[IM002] [Microsoft][ODBC Driver Manager] Nome da fonte de dados não encontrado e nenhum driver padrão especificado (0) (SQLDriverConnect)')"
     ]
    }
   ],
   "source": [
    "# conexao com o BD\n",
    "conn = pyodbc.connect(conn_str)\n",
    "cursor = conn.cursor()\n"
   ]
  },
  {
   "cell_type": "code",
   "execution_count": 3,
   "id": "0bd20b35",
   "metadata": {
    "tags": [
     "c1"
    ]
   },
   "outputs": [
    {
     "name": "stderr",
     "output_type": "stream",
     "text": [
      "\n",
      "KeyboardInterrupt\n",
      "\n"
     ]
    }
   ],
   "source": [
    "# Exemplo de consulta\n",
    "cursor.execute(\"SELECT TOP 10 * FROM SUA_TABELA\")\n",
    "for row in cursor.fetchall():\n",
    "    print(row)\n"
   ]
  },
  {
   "cell_type": "code",
   "execution_count": null,
   "id": "021e5f6a",
   "metadata": {},
   "outputs": [],
   "source": [
    "# Fechar conexão\n",
    "conn.close()\n"
   ]
  }
 ],
 "metadata": {
  "kernelspec": {
   "display_name": "venv",
   "language": "python",
   "name": "python3"
  },
  "language_info": {
   "codemirror_mode": {
    "name": "ipython",
    "version": 3
   },
   "file_extension": ".py",
   "mimetype": "text/x-python",
   "name": "python",
   "nbconvert_exporter": "python",
   "pygments_lexer": "ipython3",
   "version": "3.13.2"
  }
 },
 "nbformat": 4,
 "nbformat_minor": 5
}
